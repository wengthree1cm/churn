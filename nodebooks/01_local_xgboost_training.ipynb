{
 "cells": [
  {
   "cell_type": "markdown",
   "id": "624932f9",
   "metadata": {},
   "source": [
    "# Step 1: Local XGBoost Training at Each Hospital\n",
    "This notebook trains an XGBoost model on each hospital's data (same model structure), simulating federated learning."
   ]
  },
  {
   "cell_type": "code",
   "execution_count": 2,
   "id": "3a107c12",
   "metadata": {},
   "outputs": [
    {
     "name": "stdout",
     "output_type": "stream",
     "text": [
      "Collecting xgboost\n",
      "  Downloading xgboost-3.0.2-py3-none-win_amd64.whl.metadata (2.1 kB)\n",
      "Requirement already satisfied: scikit-learn in c:\\users\\liuch\\appdata\\local\\programs\\python\\python312\\lib\\site-packages (1.7.0)\n",
      "Requirement already satisfied: pandas in c:\\users\\liuch\\appdata\\local\\programs\\python\\python312\\lib\\site-packages (2.2.2)\n",
      "Requirement already satisfied: matplotlib in c:\\users\\liuch\\appdata\\local\\programs\\python\\python312\\lib\\site-packages (3.9.2)\n",
      "Requirement already satisfied: numpy in c:\\users\\liuch\\appdata\\local\\programs\\python\\python312\\lib\\site-packages (from xgboost) (1.26.4)\n",
      "Requirement already satisfied: scipy in c:\\users\\liuch\\appdata\\local\\programs\\python\\python312\\lib\\site-packages (from xgboost) (1.14.1)\n",
      "Requirement already satisfied: joblib>=1.2.0 in c:\\users\\liuch\\appdata\\local\\programs\\python\\python312\\lib\\site-packages (from scikit-learn) (1.4.2)\n",
      "Requirement already satisfied: threadpoolctl>=3.1.0 in c:\\users\\liuch\\appdata\\local\\programs\\python\\python312\\lib\\site-packages (from scikit-learn) (3.6.0)\n",
      "Requirement already satisfied: python-dateutil>=2.8.2 in c:\\users\\liuch\\appdata\\roaming\\python\\python312\\site-packages (from pandas) (2.9.0.post0)\n",
      "Requirement already satisfied: pytz>=2020.1 in c:\\users\\liuch\\appdata\\local\\programs\\python\\python312\\lib\\site-packages (from pandas) (2024.1)\n",
      "Requirement already satisfied: tzdata>=2022.7 in c:\\users\\liuch\\appdata\\local\\programs\\python\\python312\\lib\\site-packages (from pandas) (2024.1)\n",
      "Requirement already satisfied: contourpy>=1.0.1 in c:\\users\\liuch\\appdata\\local\\programs\\python\\python312\\lib\\site-packages (from matplotlib) (1.3.0)\n",
      "Requirement already satisfied: cycler>=0.10 in c:\\users\\liuch\\appdata\\local\\programs\\python\\python312\\lib\\site-packages (from matplotlib) (0.12.1)\n",
      "Requirement already satisfied: fonttools>=4.22.0 in c:\\users\\liuch\\appdata\\local\\programs\\python\\python312\\lib\\site-packages (from matplotlib) (4.53.1)\n",
      "Requirement already satisfied: kiwisolver>=1.3.1 in c:\\users\\liuch\\appdata\\local\\programs\\python\\python312\\lib\\site-packages (from matplotlib) (1.4.5)\n",
      "Requirement already satisfied: packaging>=20.0 in c:\\users\\liuch\\appdata\\roaming\\python\\python312\\site-packages (from matplotlib) (24.1)\n",
      "Requirement already satisfied: pillow>=8 in c:\\users\\liuch\\appdata\\local\\programs\\python\\python312\\lib\\site-packages (from matplotlib) (10.4.0)\n",
      "Requirement already satisfied: pyparsing>=2.3.1 in c:\\users\\liuch\\appdata\\local\\programs\\python\\python312\\lib\\site-packages (from matplotlib) (3.1.4)\n",
      "Requirement already satisfied: six>=1.5 in c:\\users\\liuch\\appdata\\roaming\\python\\python312\\site-packages (from python-dateutil>=2.8.2->pandas) (1.16.0)\n",
      "Downloading xgboost-3.0.2-py3-none-win_amd64.whl (150.0 MB)\n",
      "   ---------------------------------------- 0.0/150.0 MB ? eta -:--:--\n",
      "   - -------------------------------------- 7.1/150.0 MB 39.9 MB/s eta 0:00:04\n",
      "   --- ------------------------------------ 14.2/150.0 MB 35.6 MB/s eta 0:00:04\n",
      "   ----- ---------------------------------- 21.2/150.0 MB 35.4 MB/s eta 0:00:04\n",
      "   -------- ------------------------------- 32.2/150.0 MB 39.4 MB/s eta 0:00:03\n",
      "   ---------- ----------------------------- 41.2/150.0 MB 40.3 MB/s eta 0:00:03\n",
      "   ------------- -------------------------- 49.5/150.0 MB 40.5 MB/s eta 0:00:03\n",
      "   --------------- ------------------------ 59.8/150.0 MB 41.4 MB/s eta 0:00:03\n",
      "   ------------------ --------------------- 69.2/150.0 MB 42.0 MB/s eta 0:00:02\n",
      "   --------------------- ------------------ 80.2/150.0 MB 43.0 MB/s eta 0:00:02\n",
      "   ----------------------- ---------------- 88.9/150.0 MB 43.0 MB/s eta 0:00:02\n",
      "   -------------------------- ------------- 99.1/150.0 MB 43.6 MB/s eta 0:00:02\n",
      "   ---------------------------- ---------- 108.8/150.0 MB 44.0 MB/s eta 0:00:01\n",
      "   ------------------------------ -------- 117.7/150.0 MB 44.2 MB/s eta 0:00:01\n",
      "   --------------------------------- ----- 127.4/150.0 MB 44.0 MB/s eta 0:00:01\n",
      "   ----------------------------------- --- 137.1/150.0 MB 44.2 MB/s eta 0:00:01\n",
      "   ------------------------------------- - 146.0/150.0 MB 44.2 MB/s eta 0:00:01\n",
      "   --------------------------------------  149.9/150.0 MB 44.2 MB/s eta 0:00:01\n",
      "   --------------------------------------- 150.0/150.0 MB 42.0 MB/s eta 0:00:00\n",
      "Installing collected packages: xgboost\n",
      "Successfully installed xgboost-3.0.2\n"
     ]
    }
   ],
   "source": [
    "!pip install xgboost scikit-learn pandas matplotlib\n",
    "import pandas as pd\n",
    "import xgboost as xgb\n",
    "from sklearn.metrics import accuracy_score, roc_auc_score\n",
    "from sklearn.model_selection import train_test_split\n",
    "import os\n",
    "\n",
    "base_path = '../data/'\n",
    "hospitals = ['hosp_1', 'hosp_2', 'hosp_3']\n"
   ]
  },
  {
   "cell_type": "code",
   "execution_count": 3,
   "id": "2ed88099",
   "metadata": {},
   "outputs": [
    {
     "name": "stdout",
     "output_type": "stream",
     "text": [
      "hosp_1 - Accuracy: 0.8947, AUC: 0.9318\n",
      "hosp_2 - Accuracy: 0.9211, AUC: 0.9792\n",
      "hosp_3 - Accuracy: 0.9474, AUC: 1.0000\n"
     ]
    }
   ],
   "source": [
    "params = {\n",
    "    'objective': 'binary:logistic',\n",
    "    'eval_metric': 'logloss',\n",
    "    'max_depth': 3,\n",
    "    'learning_rate': 0.1,\n",
    "    'verbosity': 0\n",
    "}\n",
    "\n",
    "results = {}\n",
    "\n",
    "for hospital in hospitals:\n",
    "    path = os.path.join(base_path, hospital, 'breast_cancer.csv')\n",
    "    df = pd.read_csv(path)\n",
    "\n",
    "    X = df.drop(columns=['target'])\n",
    "    y = df['target']\n",
    "\n",
    "    X_train, X_test, y_train, y_test = train_test_split(X, y, test_size=0.2, random_state=42)\n",
    "\n",
    "    dtrain = xgb.DMatrix(X_train, label=y_train)\n",
    "    dtest = xgb.DMatrix(X_test, label=y_test)\n",
    "\n",
    "    model = xgb.train(params, dtrain, num_boost_round=20)\n",
    "\n",
    "    preds = model.predict(dtest)\n",
    "    pred_labels = (preds > 0.5).astype(int)\n",
    "\n",
    "    acc = accuracy_score(y_test, pred_labels)\n",
    "    auc = roc_auc_score(y_test, preds)\n",
    "\n",
    "    results[hospital] = {'accuracy': acc, 'auc': auc}\n",
    "    print(f\"{hospital} - Accuracy: {acc:.4f}, AUC: {auc:.4f}\")\n"
   ]
  }
 ],
 "metadata": {
  "kernelspec": {
   "display_name": "Python 3",
   "language": "python",
   "name": "python3"
  },
  "language_info": {
   "codemirror_mode": {
    "name": "ipython",
    "version": 3
   },
   "file_extension": ".py",
   "mimetype": "text/x-python",
   "name": "python",
   "nbconvert_exporter": "python",
   "pygments_lexer": "ipython3",
   "version": "3.12.5"
  }
 },
 "nbformat": 4,
 "nbformat_minor": 5
}
